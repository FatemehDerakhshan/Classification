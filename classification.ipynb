{
 "cells": [
  {
   "cell_type": "code",
   "execution_count": null,
   "id": "62b82c23-73f9-4cff-b063-7b1bc93cfe64",
   "metadata": {},
   "outputs": [],
   "source": [
    "import pandas as pd \n",
    "import numpy as np\n",
    "import seaborn as sb\n",
    "from sklearn import svm\n",
    "import seaborn as sns\n",
    "from sklearn.metrics import f1_score\n",
    "from sklearn.metrics import jaccard_score\n",
    "from sklearn import metrics\n",
    "import matplotlib.pyplot as plt\n",
    "from sklearn import preprocessing\n",
    "from sklearn.model_selection import train_test_split\n",
    "from sklearn.linear_model import LogisticRegression\n",
    "from sklearn.tree import DecisionTreeClassifier\n",
    "from sklearn.metrics import confusion_matrix, ConfusionMatrixDisplay"
   ]
  },
  {
   "cell_type": "code",
   "execution_count": null,
   "id": "2fb23e90-0f7e-417a-a419-eab9ca09fb6d",
   "metadata": {},
   "outputs": [],
   "source": [
    "df = pd.read_csv('16325569497737558.csv')\n",
    "df.head(10)\n"
   ]
  },
  {
   "cell_type": "code",
   "execution_count": null,
   "id": "77a72b64-2446-4619-b825-39dcbc473d0d",
   "metadata": {},
   "outputs": [],
   "source": [
    "# check if there's any nan value\n",
    "null_values = []\n",
    "for i in df.columns:\n",
    "    null_values.append(df[i].isnull().sum())"
   ]
  },
  {
   "cell_type": "code",
   "execution_count": null,
   "id": "3d0c6e4d-2770-4499-b59c-2014fd1ea491",
   "metadata": {},
   "outputs": [],
   "source": [
    "# check if there's any unique value for columns\n",
    "# p.s : just wrote some colums in notebook, pasted all columns in this line\n",
    "df['chol'].unique()"
   ]
  },
  {
   "cell_type": "code",
   "execution_count": null,
   "id": "db94ce23-4c29-45f5-95d9-a72f74cda1bb",
   "metadata": {},
   "outputs": [],
   "source": [
    "# correlation matrix  RdYlGn crest\n",
    "fig, ax = plt.subplots(figsize=(12,10))         # Sample figsize in inches\n",
    "sns.heatmap(df.corr(), annot=True,cmap='crest', linewidths=.5, ax=ax)"
   ]
  },
  {
   "cell_type": "code",
   "execution_count": null,
   "id": "6e5bb921-ce5b-4f5f-bf3d-57da5e1ebacc",
   "metadata": {},
   "outputs": [],
   "source": [
    "fig, ax = plt.subplots(figsize=(15,10)) \n",
    "df.hist( bins=50,  ax=ax)\n",
    "plt.show()"
   ]
  },
  {
   "cell_type": "markdown",
   "id": "42720279-9384-4d7c-a57b-d1665fd1fe4a",
   "metadata": {},
   "source": [
    "# SVM"
   ]
  },
  {
   "cell_type": "code",
   "execution_count": null,
   "id": "9f9cdfda-802f-4dbf-8f7a-a7c6e35bd744",
   "metadata": {},
   "outputs": [],
   "source": [
    "x = df.drop(columns=['output'])\n",
    "y =df['output']\n",
    "x_train , x_test , y_train , y_test = train_test_split(x , y , test_size = 0.2, random_state = 4)"
   ]
  },
  {
   "cell_type": "code",
   "execution_count": null,
   "id": "4afd05b6-1c0d-4cbf-bc50-bd6a5dfb6be6",
   "metadata": {},
   "outputs": [],
   "source": [
    "model = svm.SVC(kernel='linear')\n",
    "model.fit(x_train ,y_train )\n",
    "y_predict = model.predict(x_test)"
   ]
  },
  {
   "cell_type": "code",
   "execution_count": null,
   "id": "bc0f10a8-385e-4ac2-92c3-1370d2d265bc",
   "metadata": {},
   "outputs": [],
   "source": [
    "print(metrics.accuracy_score(y_test, y_predict))\n",
    "\n",
    "print(f1_score(y_test, y_predict, average='weighted')) \n",
    "\n",
    "print(jaccard_score(y_test, y_predict ,pos_label=1))"
   ]
  },
  {
   "cell_type": "markdown",
   "id": "0f358eb0-cb4a-451e-b53a-424bf9b50c98",
   "metadata": {},
   "source": [
    "## confusion matrix"
   ]
  },
  {
   "cell_type": "code",
   "execution_count": null,
   "id": "145f7031-9738-4175-8bc3-e7f821d600d2",
   "metadata": {},
   "outputs": [],
   "source": [
    "cm = confusion_matrix(y_test, y_predict, labels=model.classes_)\n",
    "disp = ConfusionMatrixDisplay(confusion_matrix=cm,  display_labels=model.classes_)\n",
    "disp.plot()\n",
    "classes=['possibility=1','possibility=0']\n",
    "tick_marks = np.arange(len(classes))\n",
    "plt.xticks(tick_marks, classes, rotation=45)\n",
    "plt.yticks(tick_marks, classes)\n",
    "plt.show()"
   ]
  },
  {
   "cell_type": "markdown",
   "id": "5c165763-7ad8-48d6-8dab-63328f950135",
   "metadata": {},
   "source": [
    "# KNN"
   ]
  },
  {
   "cell_type": "code",
   "execution_count": null,
   "id": "8cbb6a6f-f815-45aa-a38f-fca45911e4c5",
   "metadata": {},
   "outputs": [],
   "source": [
    "X = df.drop(columns=['output'])\n",
    "scaler = preprocessing.StandardScaler()\n",
    "normalized_data = scaler.fit(X).transform(X)\n",
    "y =df['output']\n",
    "x_train , x_test , y_train , y_test = train_test_split(normalized_data , y , test_size = 0.2, random_state = 4)"
   ]
  },
  {
   "cell_type": "code",
   "execution_count": null,
   "id": "cc319d50-785e-4cf0-b6dd-9d0493ee064e",
   "metadata": {},
   "outputs": [],
   "source": [
    "from sklearn.neighbors import KNeighborsClassifier\n",
    "k = 10\n",
    "#Train Model and Predict  \n",
    "neigh = KNeighborsClassifier(n_neighbors = k)\n",
    "neigh.fit(x_train,y_train)\n",
    "y_predict = neigh.predict(x_test)\n"
   ]
  },
  {
   "cell_type": "code",
   "execution_count": null,
   "id": "c33a1516-9147-4900-91a6-a99eae0b0e72",
   "metadata": {},
   "outputs": [],
   "source": [
    "print(metrics.accuracy_score(y_test, y_predict))\n",
    "\n",
    "print(f1_score(y_test, y_predict, average='weighted')) \n",
    "\n",
    "print(jaccard_score(y_test, y_predict ,pos_label=1))"
   ]
  },
  {
   "cell_type": "markdown",
   "id": "e7673eb9-6c2d-4547-a4b8-cb8ab435c1f5",
   "metadata": {},
   "source": [
    "## confusion matrix"
   ]
  },
  {
   "cell_type": "code",
   "execution_count": null,
   "id": "0f79f725-89a9-47e1-9038-bce17aee865c",
   "metadata": {},
   "outputs": [],
   "source": [
    "cm = confusion_matrix(y_test, y_predict, labels=neigh.classes_)\n",
    "disp = ConfusionMatrixDisplay(confusion_matrix=cm, display_labels=neigh.classes_)\n",
    "disp.plot()\n",
    "classes=['possibility=1','possibility=0']\n",
    "tick_marks = np.arange(len(classes))\n",
    "plt.xticks(tick_marks, classes, rotation=45)\n",
    "plt.yticks(tick_marks, classes)\n",
    "plt.show()"
   ]
  },
  {
   "cell_type": "markdown",
   "id": "f699b301-8acc-4d81-8b94-ca30ef16096f",
   "metadata": {},
   "source": [
    "## LogisticRegression"
   ]
  },
  {
   "cell_type": "code",
   "execution_count": null,
   "id": "e6c34efc-a7f9-4ab8-9b4a-04d061632f4c",
   "metadata": {},
   "outputs": [],
   "source": [
    "x = df.drop(columns=['output'])\n",
    "scaler = preprocessing.StandardScaler()\n",
    "x = scaler.fit(x).transform(x)\n",
    "y =df['output']\n",
    "x_train , x_test , y_train , y_test = train_test_split(x , y , test_size = 0.2, random_state =4)"
   ]
  },
  {
   "cell_type": "code",
   "execution_count": null,
   "id": "4953d7e5-a9bd-4598-bc24-4507803d7697",
   "metadata": {},
   "outputs": [],
   "source": [
    "LR = LogisticRegression(C=0.01, solver='liblinear')\n",
    "LR.fit(x_train,y_train)\n",
    "y_predict = LR.predict(x_test)"
   ]
  },
  {
   "cell_type": "code",
   "execution_count": null,
   "id": "252a0387-e366-4600-a4c7-bfb7f9f7d3be",
   "metadata": {},
   "outputs": [],
   "source": [
    "print(metrics.accuracy_score(y_test, y_predict))\n",
    "\n",
    "print(f1_score(y_test, y_predict, average='weighted')) \n",
    "\n",
    "print(jaccard_score(y_test, y_predict ,pos_label=1))"
   ]
  },
  {
   "cell_type": "code",
   "execution_count": null,
   "id": "6924f006-2501-433f-9532-7b92c6e6f10c",
   "metadata": {},
   "outputs": [],
   "source": [
    "cm = confusion_matrix(y_test, y_predict, labels=neigh.classes_)\n",
    "disp = ConfusionMatrixDisplay(confusion_matrix=cm, display_labels=neigh.classes_)\n",
    "disp.plot()\n",
    "classes=['possibility=1','possibility=0']\n",
    "tick_marks = np.arange(len(classes))\n",
    "plt.xticks(tick_marks, classes, rotation=45)\n",
    "plt.yticks(tick_marks, classes)\n",
    "plt.show()"
   ]
  },
  {
   "cell_type": "markdown",
   "id": "49ad6fdd-f26a-4000-97f3-93490a36c2d3",
   "metadata": {},
   "source": [
    "## Decision Tree"
   ]
  },
  {
   "cell_type": "code",
   "execution_count": null,
   "id": "842ae6bb-77fc-4029-9845-82823280fc0d",
   "metadata": {},
   "outputs": [],
   "source": [
    "x = df.drop(columns=['output'])\n",
    "y =df['output']\n",
    "x_train , x_test , y_train , y_test = train_test_split(x , y , test_size = 0.2, random_state =4)"
   ]
  },
  {
   "cell_type": "code",
   "execution_count": null,
   "id": "94449c7f-a58d-465c-8d52-e9d69d583b8c",
   "metadata": {},
   "outputs": [],
   "source": [
    "heartTree = DecisionTreeClassifier(criterion='entropy', max_depth=4)\n",
    "heartTree.fit(x_train, y_train)\n",
    "y_predict = heartTree.predict(x_test)"
   ]
  },
  {
   "cell_type": "code",
   "execution_count": null,
   "id": "c7ff82db-3021-449a-93ba-248212469949",
   "metadata": {},
   "outputs": [],
   "source": [
    "print(metrics.accuracy_score(y_test, y_predict))\n",
    "\n",
    "print(f1_score(y_test, y_predict, average='weighted')) \n",
    "\n",
    "print(jaccard_score(y_test, y_predict ,pos_label=1))"
   ]
  },
  {
   "cell_type": "code",
   "execution_count": null,
   "id": "3a221d01-6412-4d27-a47a-c041bcc8680f",
   "metadata": {},
   "outputs": [],
   "source": [
    "cm = confusion_matrix(y_test, y_predict, labels=neigh.classes_)\n",
    "disp = ConfusionMatrixDisplay(confusion_matrix=cm, display_labels=neigh.classes_)\n",
    "disp.plot()\n",
    "classes=['possibility=1','possibility=0']\n",
    "tick_marks = np.arange(len(classes))\n",
    "plt.xticks(tick_marks, classes, rotation=45)\n",
    "plt.yticks(tick_marks, classes)\n",
    "plt.show()"
   ]
  }
 ],
 "metadata": {
  "kernelspec": {
   "display_name": "Python 3 (ipykernel)",
   "language": "python",
   "name": "python3"
  },
  "language_info": {
   "codemirror_mode": {
    "name": "ipython",
    "version": 3
   },
   "file_extension": ".py",
   "mimetype": "text/x-python",
   "name": "python",
   "nbconvert_exporter": "python",
   "pygments_lexer": "ipython3",
   "version": "3.10.12"
  }
 },
 "nbformat": 4,
 "nbformat_minor": 5
}
